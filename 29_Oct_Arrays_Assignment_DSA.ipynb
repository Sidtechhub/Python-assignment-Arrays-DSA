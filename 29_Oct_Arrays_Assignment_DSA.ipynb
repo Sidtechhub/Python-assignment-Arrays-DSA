{
 "cells": [
  {
   "cell_type": "code",
   "execution_count": 6,
   "id": "fda87526-bd05-4477-a873-34fece6f34f3",
   "metadata": {},
   "outputs": [
    {
     "name": "stdout",
     "output_type": "stream",
     "text": [
      "True\n"
     ]
    }
   ],
   "source": [
    "# Q1\n",
    "# 1.Time-complexity  :O(n)\n",
    "# 2.Space-Complexity :O(1)\n",
    "arr=[1,2,4,2,5,9]\n",
    "for i in arr:\n",
    "    if arr.count(i)>=2:\n",
    "        print(\"True\")\n",
    "        break"
   ]
  },
  {
   "cell_type": "code",
   "execution_count": null,
   "id": "b08f3620-f2ae-4f50-9d79-dc856c88b290",
   "metadata": {},
   "outputs": [],
   "source": []
  },
  {
   "cell_type": "code",
   "execution_count": 7,
   "id": "7f407eec-6bf7-4bd5-920f-a1f302c7a925",
   "metadata": {},
   "outputs": [
    {
     "name": "stdout",
     "output_type": "stream",
     "text": [
      "[5, 6, 7, 1, 2, 3, 4]\n"
     ]
    }
   ],
   "source": [
    "# Q2\n",
    "# 1.Time-complexity  :O(n)\n",
    "# 2.Space-Complexity :O(1)\n",
    "def rotate_array(arr, k):\n",
    "    n = len(arr)\n",
    "    k %= n  # Handling cases where k > n\n",
    "\n",
    "    # Reverse the entire array\n",
    "    reverse(arr, 0, n - 1)\n",
    "    # Reverse the first k elements\n",
    "    reverse(arr, 0, k - 1)\n",
    "    # Reverse the rest of the elements\n",
    "    reverse(arr, k, n - 1)\n",
    "\n",
    "def reverse(arr, start, end):\n",
    "    while start < end:\n",
    "        arr[start], arr[end] = arr[end], arr[start]\n",
    "        start += 1\n",
    "        end -= 1\n",
    "\n",
    "# Given array and k\n",
    "arr = [1, 2, 3, 4, 5, 6, 7]\n",
    "k = 3\n",
    "\n",
    "# Rotate the array to the right by k steps\n",
    "rotate_array(arr, k)\n",
    "\n",
    "# Display the rotated array\n",
    "print(arr)\n"
   ]
  },
  {
   "cell_type": "code",
   "execution_count": null,
   "id": "b378083f-791c-4158-b4bd-eaf5ef0cf733",
   "metadata": {},
   "outputs": [],
   "source": []
  },
  {
   "cell_type": "code",
   "execution_count": 8,
   "id": "dd9b7f9a-bfdb-4604-bde4-8efbcb90e74c",
   "metadata": {},
   "outputs": [
    {
     "name": "stdout",
     "output_type": "stream",
     "text": [
      "[12, 9, 7, 5, 4, 2]\n"
     ]
    }
   ],
   "source": [
    "# Q3\n",
    "# 1.Time-complexity  :O(n)\n",
    "# 2.Space-Complexity :O(1)\n",
    "def reverse_array_in_place(arr):\n",
    "    start = 0\n",
    "    end = len(arr) - 1\n",
    "\n",
    "    while start < end:\n",
    "        # Swap elements at start and end indices\n",
    "        arr[start], arr[end] = arr[end], arr[start]\n",
    "        start += 1\n",
    "        end -= 1\n",
    "\n",
    "# Given array\n",
    "arr = [2, 4, 5, 7, 9, 12]\n",
    "\n",
    "# Reverse the array in-place\n",
    "reverse_array_in_place(arr)\n",
    "\n",
    "# Display the reversed array\n",
    "print(arr)\n"
   ]
  },
  {
   "cell_type": "code",
   "execution_count": null,
   "id": "f0025a39-4b30-4aa9-97cc-8c4bcd4ba78f",
   "metadata": {},
   "outputs": [],
   "source": []
  },
  {
   "cell_type": "code",
   "execution_count": 9,
   "id": "c0cf0a86-9a37-4483-ab5f-b700ad1e9e3f",
   "metadata": {},
   "outputs": [
    {
     "name": "stdout",
     "output_type": "stream",
     "text": [
      "20\n"
     ]
    }
   ],
   "source": [
    "# Q4\n",
    "# 1.Time-complexity  :O(n^2)\n",
    "# 2.Space-Complexity :O(1)\n",
    "\n",
    "def findMax(arr):\n",
    "    for i in range(len(arr)):\n",
    "         for a in arr:\n",
    "                if a>arr[i]:\n",
    "                     return a\n",
    "\n",
    "\n",
    "# Driver code\n",
    "arr = [10, 5, 20, 8, 15]\n",
    "maxelem=findMax(arr)\n",
    "print(maxelem)"
   ]
  },
  {
   "cell_type": "code",
   "execution_count": null,
   "id": "2d432551-e95f-4400-b82d-0e861007474d",
   "metadata": {},
   "outputs": [],
   "source": []
  },
  {
   "cell_type": "code",
   "execution_count": 10,
   "id": "e68215df-2084-4b3c-9fbc-0869cd44c424",
   "metadata": {},
   "outputs": [
    {
     "name": "stdout",
     "output_type": "stream",
     "text": [
      "[1, 2, 3, 4, 5]\n"
     ]
    }
   ],
   "source": [
    "# Q5\n",
    "# 1.Time-complexity  :O(n)\n",
    "# 2.Space-Complexity :O(1)\n",
    "arr = [1, 1, 2, 2, 2, 3, 3, 4, 4, 4, 5, 5]\n",
    "\n",
    "def remove_duplicates(arr):\n",
    "    if len(arr) == 0 or len(arr) == 1:\n",
    "        return arr\n",
    "\n",
    "    # Index to track unique elements\n",
    "    unique_index = 0\n",
    "\n",
    "    # Iterate through the array starting from the second element\n",
    "    for i in range(1, len(arr)):\n",
    "        # If the current element is different from the previous one\n",
    "        if arr[i] != arr[unique_index]:\n",
    "            unique_index += 1\n",
    "            # Update the unique element\n",
    "            arr[unique_index] = arr[i]\n",
    "\n",
    "    # Truncate the array to remove duplicates\n",
    "    arr = arr[:unique_index + 1]\n",
    "    return arr\n",
    "\n",
    "arr = remove_duplicates(arr)\n",
    "print(arr)\n"
   ]
  },
  {
   "cell_type": "code",
   "execution_count": null,
   "id": "14ba7b3d-1c13-4651-91cb-6df2854d275c",
   "metadata": {},
   "outputs": [],
   "source": []
  },
  {
   "cell_type": "code",
   "execution_count": null,
   "id": "ab134572-2c2a-47a2-a553-95af8f04e2de",
   "metadata": {},
   "outputs": [],
   "source": []
  },
  {
   "cell_type": "code",
   "execution_count": null,
   "id": "9eb4c3ad-3fcf-4a5a-8184-a0ec3393c1bf",
   "metadata": {},
   "outputs": [],
   "source": []
  },
  {
   "cell_type": "code",
   "execution_count": null,
   "id": "f428f2cb-676d-4fef-a4ab-1545f4397c92",
   "metadata": {},
   "outputs": [],
   "source": []
  },
  {
   "cell_type": "code",
   "execution_count": null,
   "id": "67bf76be-c441-456f-ad68-4849fcddfa4b",
   "metadata": {},
   "outputs": [],
   "source": []
  }
 ],
 "metadata": {
  "kernelspec": {
   "display_name": "Python 3 (ipykernel)",
   "language": "python",
   "name": "python3"
  },
  "language_info": {
   "codemirror_mode": {
    "name": "ipython",
    "version": 3
   },
   "file_extension": ".py",
   "mimetype": "text/x-python",
   "name": "python",
   "nbconvert_exporter": "python",
   "pygments_lexer": "ipython3",
   "version": "3.10.8"
  }
 },
 "nbformat": 4,
 "nbformat_minor": 5
}
